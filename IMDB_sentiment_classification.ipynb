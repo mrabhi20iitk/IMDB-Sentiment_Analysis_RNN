{
 "cells": [
  {
   "cell_type": "code",
   "execution_count": 175,
   "metadata": {},
   "outputs": [],
   "source": [
    "import pandas as pd\n",
    "import numpy as np\n",
    "import nltk \n",
    "from nltk.corpus import stopwords\n",
    "from nltk.stem import SnowballStemmer\n",
    "import tqdm\n",
    "import re\n",
    "from bs4 import BeautifulSoup\n",
    "from sklearn.metrics import accuracy_score"
   ]
  },
  {
   "cell_type": "code",
   "execution_count": 126,
   "metadata": {},
   "outputs": [
    {
     "data": {
      "text/html": [
       "<div>\n",
       "<style scoped>\n",
       "    .dataframe tbody tr th:only-of-type {\n",
       "        vertical-align: middle;\n",
       "    }\n",
       "\n",
       "    .dataframe tbody tr th {\n",
       "        vertical-align: top;\n",
       "    }\n",
       "\n",
       "    .dataframe thead th {\n",
       "        text-align: right;\n",
       "    }\n",
       "</style>\n",
       "<table border=\"1\" class=\"dataframe\">\n",
       "  <thead>\n",
       "    <tr style=\"text-align: right;\">\n",
       "      <th></th>\n",
       "      <th>review</th>\n",
       "      <th>sentiment</th>\n",
       "    </tr>\n",
       "  </thead>\n",
       "  <tbody>\n",
       "    <tr>\n",
       "      <th>0</th>\n",
       "      <td>One of the other reviewers has mentioned that ...</td>\n",
       "      <td>positive</td>\n",
       "    </tr>\n",
       "    <tr>\n",
       "      <th>1</th>\n",
       "      <td>A wonderful little production. &lt;br /&gt;&lt;br /&gt;The...</td>\n",
       "      <td>positive</td>\n",
       "    </tr>\n",
       "    <tr>\n",
       "      <th>2</th>\n",
       "      <td>I thought this was a wonderful way to spend ti...</td>\n",
       "      <td>positive</td>\n",
       "    </tr>\n",
       "    <tr>\n",
       "      <th>3</th>\n",
       "      <td>Basically there's a family where a little boy ...</td>\n",
       "      <td>negative</td>\n",
       "    </tr>\n",
       "    <tr>\n",
       "      <th>4</th>\n",
       "      <td>Petter Mattei's \"Love in the Time of Money\" is...</td>\n",
       "      <td>positive</td>\n",
       "    </tr>\n",
       "  </tbody>\n",
       "</table>\n",
       "</div>"
      ],
      "text/plain": [
       "                                              review sentiment\n",
       "0  One of the other reviewers has mentioned that ...  positive\n",
       "1  A wonderful little production. <br /><br />The...  positive\n",
       "2  I thought this was a wonderful way to spend ti...  positive\n",
       "3  Basically there's a family where a little boy ...  negative\n",
       "4  Petter Mattei's \"Love in the Time of Money\" is...  positive"
      ]
     },
     "execution_count": 126,
     "metadata": {},
     "output_type": "execute_result"
    }
   ],
   "source": [
    "data = pd.read_csv('IMDB Dataset.csv')\n",
    "data.head()"
   ]
  },
  {
   "cell_type": "code",
   "execution_count": 127,
   "metadata": {},
   "outputs": [
    {
     "name": "stdout",
     "output_type": "stream",
     "text": [
      "sentiment\n",
      "positive    25000\n",
      "negative    25000\n",
      "Name: count, dtype: int64\n",
      "(50000, 2)\n"
     ]
    }
   ],
   "source": [
    "print(data['sentiment'].value_counts())    #It is a balanced dataset\n",
    "print(data.shape)"
   ]
  },
  {
   "cell_type": "code",
   "execution_count": 128,
   "metadata": {},
   "outputs": [
    {
     "data": {
      "text/plain": [
       "review       0\n",
       "sentiment    0\n",
       "dtype: int64"
      ]
     },
     "execution_count": 128,
     "metadata": {},
     "output_type": "execute_result"
    }
   ],
   "source": [
    "#checking for null values\n",
    "data.isnull().sum()"
   ]
  },
  {
   "cell_type": "code",
   "execution_count": 129,
   "metadata": {},
   "outputs": [],
   "source": [
    "X = data['review']\n",
    "y = data['sentiment']"
   ]
  },
  {
   "cell_type": "code",
   "execution_count": 130,
   "metadata": {},
   "outputs": [],
   "source": [
    "# mapping of sentiment - 'positive' : 1 ; 'negative': 0\n",
    "def map_sentiment(data):\n",
    "    if data =='positive':\n",
    "        return 1\n",
    "    else:\n",
    "        return 0\n",
    "\n",
    "y = y.map(map_sentiment) "
   ]
  },
  {
   "cell_type": "code",
   "execution_count": 131,
   "metadata": {},
   "outputs": [
    {
     "data": {
      "text/plain": [
       "0        1\n",
       "1        1\n",
       "2        1\n",
       "3        0\n",
       "4        1\n",
       "        ..\n",
       "49995    1\n",
       "49996    0\n",
       "49997    0\n",
       "49998    0\n",
       "49999    0\n",
       "Name: sentiment, Length: 50000, dtype: int64"
      ]
     },
     "execution_count": 131,
     "metadata": {},
     "output_type": "execute_result"
    }
   ],
   "source": [
    "y"
   ]
  },
  {
   "cell_type": "markdown",
   "metadata": {},
   "source": [
    "Text Cleaning and preprocessing"
   ]
  },
  {
   "cell_type": "code",
   "execution_count": 132,
   "metadata": {},
   "outputs": [],
   "source": [
    "stemmer = SnowballStemmer('english')\n",
    "stop_words = stopwords.words('english')"
   ]
  },
  {
   "cell_type": "code",
   "execution_count": 133,
   "metadata": {},
   "outputs": [],
   "source": [
    "def remove_stopwords(text):\n",
    "    text = \" \".join([i.lower() for i in text.split() if i.lower() not in stop_words])"
   ]
  },
  {
   "cell_type": "code",
   "execution_count": 134,
   "metadata": {},
   "outputs": [],
   "source": [
    "def stemming(text):\n",
    "    text = \" \".join([stemmer.stem(i) for i in text.split()])\n",
    "    return text"
   ]
  },
  {
   "cell_type": "code",
   "execution_count": 135,
   "metadata": {},
   "outputs": [],
   "source": [
    "# Performing decontractions on data\n",
    "def decontraction(text):\n",
    "    text = re.sub(r\"won't\",\"will not\",text)\n",
    "    text = re.sub(r\"can't\",\"can not\",text)\n",
    "    text = re.sub(r\"n't\",\"not\",text)\n",
    "    text = re.sub(r\"\\'re\",\"are\",text)\n",
    "    text = re.sub(r\"\\'s\",\" is\",text)\n",
    "    text = re.sub(r\"\\'d\",\" would\",text)\n",
    "    text = re.sub(r\"\\'ll\",\" will\",text)\n",
    "    text = re.sub(r\"\\'t\",\" not\",text)\n",
    "    text = re.sub(r\"\\'ve\",\" have\",text)\n",
    "    text = re.sub(r\"\\'m\",\" am\",text)\n",
    "    return text"
   ]
  },
  {
   "cell_type": "code",
   "execution_count": 136,
   "metadata": {},
   "outputs": [],
   "source": [
    "# Removing HTML content from data\n",
    "def preprocessing_html(text):\n",
    "    phrase = BeautifulSoup(text).get_text()\n",
    "    return phrase"
   ]
  },
  {
   "cell_type": "code",
   "execution_count": 137,
   "metadata": {},
   "outputs": [],
   "source": [
    "# Removing URLs from data\n",
    "def preprocessing_url(text):\n",
    "    text = re.sub(r'http\\S+','',text)\n",
    "    text = re.sub(r'www\\S+','',text)\n",
    "    return text\n"
   ]
  },
  {
   "cell_type": "code",
   "execution_count": 138,
   "metadata": {},
   "outputs": [],
   "source": [
    "# #Single Function for text preprocessing\n",
    "# def text_preprocessing(df):\n",
    "#     arr = []\n",
    "#     for text in tqdm.tqdm((df)):\n",
    "#         text = preprocessing_url(df[i])\n",
    "#         text = preprocessing_html(text)\n",
    "#         text = decontraction(text)\n",
    "#         text = remove_stopwords(text)\n",
    "#         text = stemming(text)\n",
    "#         text = re.sub('\\S*\\d\\S*',\"\",text)    # removes any substrings from the string text that contain at least one digit surrounded by non-digit characters.\n",
    "#         text = re.sub('[^A-Za-z0-9]+',\" \",text) # replaces any sequence of characters in the string s that is not a letter or a digit with a single space character \" \".\n",
    "#         arr.append(text)\n",
    "\n",
    "#     return arr"
   ]
  },
  {
   "cell_type": "code",
   "execution_count": 144,
   "metadata": {},
   "outputs": [
    {
     "name": "stderr",
     "output_type": "stream",
     "text": [
      "100%|██████████| 50000/50000 [42:58<00:00, 19.39it/s]    \n"
     ]
    }
   ],
   "source": [
    "corpus = []\n",
    "for i in tqdm.tqdm(range(len(X))):\n",
    "    text = re.sub('[^a-zA-Z]', ' ',X[i])\n",
    "    text = re.sub(r'http\\S+','',text)       #removing URLs\n",
    "    text = re.sub(r'www\\S+','',text)        #removing URLs\n",
    "    text = BeautifulSoup(text).get_text()\n",
    "    text = text.lower()\n",
    "    text = decontraction(text)\n",
    "    text = text.split()\n",
    "    text = [stemmer.stem(word) for word in text if word not in stopwords.words('english')]\n",
    "    text = ' '.join(text)\n",
    "    corpus.append(text)"
   ]
  },
  {
   "cell_type": "code",
   "execution_count": null,
   "metadata": {},
   "outputs": [],
   "source": [
    "# corpus = []\n",
    "# for i in tqdm.tqdm(range(len(X))):\n",
    "#     text = re.sub('[^a-zA-Z]', ' ',X[i])\n",
    "#     text = re.sub(r'http\\S+','',text)       #removing URLs\n",
    "#     text = re.sub(r'www\\S+','',text)        #removing URLs\n",
    "#     text = BeautifulSoup(text).get_text()\n",
    "#     text = decontraction(text)\n",
    "#     text = [word.lower() for word in text.split() if word.lower() not in stopwords.words('english')]\n",
    "#     text = [stemmer.stem(i) for i in text]\n",
    "#     text = ' '.join(text)\n",
    "#     corpus.append(text)"
   ]
  },
  {
   "cell_type": "markdown",
   "metadata": {},
   "source": [
    "Building our RNN Model"
   ]
  },
  {
   "cell_type": "code",
   "execution_count": 154,
   "metadata": {},
   "outputs": [],
   "source": [
    "#Importing Modules \n",
    "from tensorflow.keras.layers import Embedding\n",
    "from tensorflow.keras.preprocessing.sequence import pad_sequences\n",
    "from tensorflow.keras.models import Sequential\n",
    "from tensorflow.keras.preprocessing.text import one_hot\n",
    "from tensorflow.keras.layers import LSTM , Bidirectional\n",
    "from tensorflow.keras.layers import Dense\n",
    "from keras.layers import Dropout"
   ]
  },
  {
   "cell_type": "code",
   "execution_count": 151,
   "metadata": {},
   "outputs": [],
   "source": [
    "#Embedding matrix\n",
    "voc_size = 5000\n",
    "onehot_repr = [one_hot(words,voc_size) for words in corpus]\n"
   ]
  },
  {
   "cell_type": "code",
   "execution_count": 152,
   "metadata": {},
   "outputs": [
    {
     "name": "stdout",
     "output_type": "stream",
     "text": [
      "[[1592 2085 4402 ... 1324 4496 4567]\n",
      " [   0    0    0 ... 4082 3936 3776]\n",
      " [   0    0    0 ...  299 3123 2680]\n",
      " ...\n",
      " [   0    0    0 ...  406 1722  579]\n",
      " [   0    0    0 ...  985 2899 4181]\n",
      " [   0    0    0 ...  129 3881  932]]\n"
     ]
    }
   ],
   "source": [
    "#Embedding Layer\n",
    "sent_length = 150\n",
    "embedded_docs= pad_sequences(onehot_repr,padding='pre',maxlen=sent_length)\n",
    "print(embedded_docs)"
   ]
  },
  {
   "cell_type": "code",
   "execution_count": 153,
   "metadata": {},
   "outputs": [
    {
     "data": {
      "text/plain": [
       "array([1592, 2085, 4402, 4901, 4551,  299, 1867,  202, 2266, 2178, 4890,\n",
       "        202, 4037, 2677,  443, 3492,  895, 2085, 2904, 3240, 4934, 4551,\n",
       "       4291, 4291, 1659,  384, 4763, 1078, 1943, 1074, 1100, 1674, 3052,\n",
       "       4785, 3797, 4506, 2517, 3624, 2282, 3701, 4220, 3181, 3149, 1207,\n",
       "       4510, 1614,  342, 4903, 3330, 2517, 2443, 4204, 1418, 3938,  671,\n",
       "       3661,  579, 1037, 3602, 1640,  143, 4899, 1541,  512, 1081,  833,\n",
       "       2480, 2175, 3701, 4291, 4291, 2061,  889, 3797, 1780,  202, 2286,\n",
       "       2626, 1993,  202, 2178,   40, 1103,  439, 4172, 1058,  812,   40,\n",
       "       4187,   40, 2807,  384, 3243,  725, 4881, 4104, 2904, 1744, 4564,\n",
       "       2871,  256,  889, 1220, 1452, 2898, 1577,  384, 4747, 4152,  342,\n",
       "       3072,  415, 2085, 2085, 2780, 2394, 2321, 3095, 3116, 4428, 2384,\n",
       "       2537, 3113, 3701, 3936, 1278,   16, 3175, 4428, 4061, 3701, 2282,\n",
       "       2286,  424,  942,  123, 3701,  677, 1452,  384,  679,  951, 1128,\n",
       "        310,  275, 1723, 3113, 1324, 4496, 4567])"
      ]
     },
     "execution_count": 153,
     "metadata": {},
     "output_type": "execute_result"
    }
   ],
   "source": [
    "embedded_docs[0]"
   ]
  },
  {
   "cell_type": "code",
   "execution_count": 156,
   "metadata": {},
   "outputs": [
    {
     "name": "stdout",
     "output_type": "stream",
     "text": [
      "WARNING:tensorflow:From c:\\Users\\maxim\\AppData\\Local\\Programs\\Python\\Python310\\lib\\site-packages\\keras\\src\\optimizers\\__init__.py:309: The name tf.train.Optimizer is deprecated. Please use tf.compat.v1.train.Optimizer instead.\n",
      "\n",
      "Model: \"sequential_1\"\n",
      "_________________________________________________________________\n",
      " Layer (type)                Output Shape              Param #   \n",
      "=================================================================\n",
      " embedding_1 (Embedding)     (None, 150, 100)          500000    \n",
      "                                                                 \n",
      " bidirectional (Bidirection  (None, 200)               160800    \n",
      " al)                                                             \n",
      "                                                                 \n",
      " dense (Dense)               (None, 1)                 201       \n",
      "                                                                 \n",
      "=================================================================\n",
      "Total params: 661001 (2.52 MB)\n",
      "Trainable params: 661001 (2.52 MB)\n",
      "Non-trainable params: 0 (0.00 Byte)\n",
      "_________________________________________________________________\n",
      "None\n"
     ]
    }
   ],
   "source": [
    "#Buidling our model\n",
    "embedding_dim = 100   \n",
    "model = Sequential() \n",
    "model.add(Embedding(voc_size,embedding_dim,input_length=sent_length))   \n",
    "model.add(Bidirectional(LSTM(100)))\n",
    "model.add(Dense(1,activation='sigmoid'))\n",
    "model.compile(loss='binary_crossentropy',optimizer='adam',metrics=['accuracy'])\n",
    "print(model.summary())"
   ]
  },
  {
   "cell_type": "code",
   "execution_count": 157,
   "metadata": {},
   "outputs": [
    {
     "data": {
      "text/plain": [
       "((50000, 150), (50000,))"
      ]
     },
     "execution_count": 157,
     "metadata": {},
     "output_type": "execute_result"
    }
   ],
   "source": [
    "X_final = np.array(embedded_docs)\n",
    "y_final=np.array(y)\n",
    "X_final.shape,y_final.shape"
   ]
  },
  {
   "cell_type": "markdown",
   "metadata": {},
   "source": [
    "<h3> Splitting test and train data"
   ]
  },
  {
   "cell_type": "code",
   "execution_count": 158,
   "metadata": {},
   "outputs": [],
   "source": [
    "from sklearn.model_selection import train_test_split\n",
    "X_train, X_test, y_train, y_test = train_test_split(X_final, y_final, test_size=0.33, random_state=42)"
   ]
  },
  {
   "cell_type": "code",
   "execution_count": 159,
   "metadata": {},
   "outputs": [
    {
     "name": "stdout",
     "output_type": "stream",
     "text": [
      "Epoch 1/25\n",
      "WARNING:tensorflow:From c:\\Users\\maxim\\AppData\\Local\\Programs\\Python\\Python310\\lib\\site-packages\\keras\\src\\utils\\tf_utils.py:492: The name tf.ragged.RaggedTensorValue is deprecated. Please use tf.compat.v1.ragged.RaggedTensorValue instead.\n",
      "\n",
      "WARNING:tensorflow:From c:\\Users\\maxim\\AppData\\Local\\Programs\\Python\\Python310\\lib\\site-packages\\keras\\src\\engine\\base_layer_utils.py:384: The name tf.executing_eagerly_outside_functions is deprecated. Please use tf.compat.v1.executing_eagerly_outside_functions instead.\n",
      "\n",
      "168/168 [==============================] - 82s 466ms/step - loss: 0.4332 - accuracy: 0.7957 - val_loss: 0.3219 - val_accuracy: 0.8619\n",
      "Epoch 2/25\n",
      "168/168 [==============================] - 70s 416ms/step - loss: 0.2957 - accuracy: 0.8801 - val_loss: 0.3325 - val_accuracy: 0.8607\n",
      "Epoch 3/25\n",
      "168/168 [==============================] - 69s 410ms/step - loss: 0.2667 - accuracy: 0.8919 - val_loss: 0.3295 - val_accuracy: 0.8631\n",
      "Epoch 4/25\n",
      "168/168 [==============================] - 68s 405ms/step - loss: 0.2400 - accuracy: 0.9045 - val_loss: 0.3503 - val_accuracy: 0.8587\n",
      "Epoch 5/25\n",
      "168/168 [==============================] - 69s 411ms/step - loss: 0.2149 - accuracy: 0.9141 - val_loss: 0.3631 - val_accuracy: 0.8544\n",
      "Epoch 6/25\n",
      "168/168 [==============================] - 69s 409ms/step - loss: 0.1937 - accuracy: 0.9241 - val_loss: 0.3864 - val_accuracy: 0.8501\n",
      "Epoch 7/25\n",
      "168/168 [==============================] - 70s 414ms/step - loss: 0.1756 - accuracy: 0.9306 - val_loss: 0.4264 - val_accuracy: 0.8498\n",
      "Epoch 8/25\n",
      "168/168 [==============================] - 70s 415ms/step - loss: 0.1552 - accuracy: 0.9414 - val_loss: 0.4480 - val_accuracy: 0.8479\n",
      "Epoch 9/25\n",
      "168/168 [==============================] - 70s 416ms/step - loss: 0.1324 - accuracy: 0.9507 - val_loss: 0.4501 - val_accuracy: 0.8412\n",
      "Epoch 10/25\n",
      "168/168 [==============================] - 69s 411ms/step - loss: 0.1802 - accuracy: 0.9292 - val_loss: 0.4633 - val_accuracy: 0.8455\n",
      "Epoch 11/25\n",
      "168/168 [==============================] - 70s 419ms/step - loss: 0.1263 - accuracy: 0.9536 - val_loss: 0.5669 - val_accuracy: 0.8402\n",
      "Epoch 12/25\n",
      "168/168 [==============================] - 73s 436ms/step - loss: 0.0967 - accuracy: 0.9659 - val_loss: 0.5772 - val_accuracy: 0.8408\n",
      "Epoch 13/25\n",
      "168/168 [==============================] - 72s 430ms/step - loss: 0.0821 - accuracy: 0.9721 - val_loss: 0.5773 - val_accuracy: 0.8278\n",
      "Epoch 14/25\n",
      "168/168 [==============================] - 70s 419ms/step - loss: 0.0685 - accuracy: 0.9782 - val_loss: 0.6693 - val_accuracy: 0.8350\n",
      "Epoch 15/25\n",
      "168/168 [==============================] - 76s 454ms/step - loss: 0.0541 - accuracy: 0.9837 - val_loss: 0.7682 - val_accuracy: 0.8272\n",
      "Epoch 16/25\n",
      "168/168 [==============================] - 73s 432ms/step - loss: 0.0602 - accuracy: 0.9813 - val_loss: 0.7121 - val_accuracy: 0.8222\n",
      "Epoch 17/25\n",
      "168/168 [==============================] - 70s 417ms/step - loss: 0.0564 - accuracy: 0.9819 - val_loss: 0.8547 - val_accuracy: 0.8339\n",
      "Epoch 18/25\n",
      "168/168 [==============================] - 69s 412ms/step - loss: 0.0413 - accuracy: 0.9873 - val_loss: 0.8605 - val_accuracy: 0.8290\n",
      "Epoch 19/25\n",
      "168/168 [==============================] - 82s 487ms/step - loss: 0.0316 - accuracy: 0.9910 - val_loss: 0.8901 - val_accuracy: 0.8306\n",
      "Epoch 20/25\n",
      "168/168 [==============================] - 83s 493ms/step - loss: 0.0181 - accuracy: 0.9959 - val_loss: 1.0119 - val_accuracy: 0.8284\n",
      "Epoch 21/25\n",
      "168/168 [==============================] - 83s 496ms/step - loss: 0.0159 - accuracy: 0.9967 - val_loss: 1.0251 - val_accuracy: 0.8284\n",
      "Epoch 22/25\n",
      "168/168 [==============================] - 84s 498ms/step - loss: 0.0227 - accuracy: 0.9937 - val_loss: 1.0336 - val_accuracy: 0.8255\n",
      "Epoch 23/25\n",
      "168/168 [==============================] - 81s 485ms/step - loss: 0.0335 - accuracy: 0.9898 - val_loss: 0.9569 - val_accuracy: 0.8209\n",
      "Epoch 24/25\n",
      "168/168 [==============================] - 68s 407ms/step - loss: 0.0389 - accuracy: 0.9879 - val_loss: 0.9983 - val_accuracy: 0.8245\n",
      "Epoch 25/25\n",
      "168/168 [==============================] - 68s 405ms/step - loss: 0.0163 - accuracy: 0.9961 - val_loss: 1.0543 - val_accuracy: 0.8259\n"
     ]
    }
   ],
   "source": [
    "epochs = 25\n",
    "batch_size = 200\n",
    "histor = model.fit(X_train,y_train,validation_data=(X_test,y_test),epochs=25,batch_size=200)"
   ]
  },
  {
   "cell_type": "code",
   "execution_count": 163,
   "metadata": {},
   "outputs": [
    {
     "data": {
      "text/plain": [
       "<keras.src.callbacks.History at 0x14883061810>"
      ]
     },
     "execution_count": 163,
     "metadata": {},
     "output_type": "execute_result"
    }
   ],
   "source": [
    "histor"
   ]
  },
  {
   "cell_type": "code",
   "execution_count": 172,
   "metadata": {},
   "outputs": [
    {
     "name": "stdout",
     "output_type": "stream",
     "text": [
      "516/516 [==============================] - 11s 21ms/step\n"
     ]
    }
   ],
   "source": [
    "y_pred = (model.predict(X_test)>0.5).astype(\"int32\")"
   ]
  },
  {
   "cell_type": "code",
   "execution_count": 178,
   "metadata": {},
   "outputs": [
    {
     "name": "stdout",
     "output_type": "stream",
     "text": [
      "82.5939393939394 %\n"
     ]
    }
   ],
   "source": [
    "score = accuracy_score(y_test,y_pred)\n",
    "print(score*100,\"%\")"
   ]
  },
  {
   "cell_type": "code",
   "execution_count": 179,
   "metadata": {},
   "outputs": [
    {
     "data": {
      "image/png": "[encoded data removed]",
      "text/plain": [
       "<Figure size 640x480 with 1 Axes>"
      ]
     },
     "metadata": {},
     "output_type": "display_data"
    },
    {
     "data": {
      "image/png": "[encoded data removed]",
      "text/plain": [
       "<Figure size 640x480 with 1 Axes>"
      ]
     },
     "metadata": {},
     "output_type": "display_data"
    }
   ],
   "source": [
    "import matplotlib.pyplot as plt\n",
    "\n",
    "# Plot utility\n",
    "def plot_graphs(history, string):\n",
    "  plt.plot(history.history[string])\n",
    "  plt.plot(history.history['val_'+string])\n",
    "  plt.xlabel(\"Epochs\")\n",
    "  plt.ylabel(string)\n",
    "  plt.legend([string, 'val_'+string])\n",
    "  plt.show()\n",
    "\n",
    "# Plot the accuracy and results \n",
    "plot_graphs(histor, \"accuracy\")\n",
    "plot_graphs(histor, \"loss\")"
   ]
  },
  {
   "cell_type": "code",
   "execution_count": null,
   "metadata": {},
   "outputs": [],
   "source": []
  }
 ],
 "metadata": {
  "kernelspec": {
   "display_name": "Python 3",
   "language": "python",
   "name": "python3"
  },
  "language_info": {
   "codemirror_mode": {
    "name": "ipython",
    "version": 3
   },
   "file_extension": ".py",
   "mimetype": "text/x-python",
   "name": "python",
   "nbconvert_exporter": "python",
   "pygments_lexer": "ipython3",
   "version": "3.10.10"
  }
 },
 "nbformat": 4,
 "nbformat_minor": 2
}
